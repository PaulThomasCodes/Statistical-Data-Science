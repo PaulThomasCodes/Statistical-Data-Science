{
  "nbformat": 4,
  "nbformat_minor": 0,
  "metadata": {
    "colab": {
      "provenance": []
    },
    "kernelspec": {
      "name": "python3",
      "display_name": "Python 3"
    },
    "language_info": {
      "name": "python"
    }
  },
  "cells": [
    {
      "cell_type": "code",
      "execution_count": 1,
      "metadata": {
        "id": "IJSLj3SKasFY"
      },
      "outputs": [],
      "source": [
        "# Imput sample data as a pandas data frame\n",
        "import pandas as pandas\n",
        "df = books = [\n",
        "    {\"id\": 1, \"title\": \"To Kill a Mockingbird\", \"author\": \"Harper Lee\", \"genre\": \"Fiction\", \"themes\": \"Coming-of-age, Racism, Injustice\", \"era\": \"20th Century\"},\n",
        "    {\"id\": 2, \"title\": \"1984\", \"author\": \"George Orwell\", \"genre\": \"Science Fiction\", \"themes\": \"Dystopia, Totalitarianism, Surveillance\", \"era\": \"20th Century\"},\n",
        "    {\"id\": 3, \"title\": \"Pride and Prejudice\", \"author\": \"Jane Austen\", \"genre\": \"Romance\", \"themes\": \"Social class, Love, Marriage\", \"era\": \"19th Century\"},\n",
        "    {\"id\": 4, \"title\": \"The Great Gatsby\", \"author\": \"F. Scott Fitzgerald\", \"genre\": \"Fiction\", \"themes\": \"American Dream, Wealth, Decadence\", \"era\": \"20th Century\"},\n",
        "    {\"id\": 5, \"title\": \"Harry Potter and the Sorcerer's Stone\", \"author\": \"J.K. Rowling\", \"genre\": \"Fantasy\", \"themes\": \"Magic, Friendship, Coming-of-age\", \"era\": \"20th Century\"},\n",
        "    {\"id\": 6, \"title\": \"The Catcher in the Rye\", \"author\": \"J.D. Salinger\", \"genre\": \"Fiction\", \"themes\": \"Alienation, Growing up, Identity\", \"era\": \"20th Century\"},\n",
        "    {\"id\": 7, \"title\": \"The Hobbit\", \"author\": \"J.R.R. Tolkien\", \"genre\": \"Fantasy\", \"themes\": \"Adventure, Heroism, Greed\", \"era\": \"20th Century\"},\n",
        "    {\"id\": 8, \"title\": \"Brave New World\", \"author\": \"Aldous Huxley\", \"genre\": \"Science Fiction\", \"themes\": \"Dystopia, Technology, Freedom\", \"era\": \"20th Century\"},\n",
        "    {\"id\": 9, \"title\": \"Jane Eyre\", \"author\": \"Charlotte Bronte\", \"genre\": \"Romance\", \"themes\": \"Love, Independence, Social criticism\", \"era\": \"19th Century\"},\n",
        "    {\"id\": 10, \"title\": \"The Da Vinci Code\", \"author\": \"Dan Brown\", \"genre\": \"Thriller\", \"themes\": \"Conspiracy, Religion, Art\", \"era\": \"21st Century\"},\n",
        "    {\"id\": 11, \"title\": \"The Hunger Games\", \"author\": \"Suzanne Collins\", \"genre\": \"Young Adult\", \"themes\": \"Dystopia, Survival, Rebellion\", \"era\": \"21st Century\"},\n",
        "    {\"id\": 12, \"title\": \"The Alchemist\", \"author\": \"Paulo Coelho\", \"genre\": \"Fiction\", \"themes\": \"Self-discovery, Destiny, Spirituality\", \"era\": \"20th Century\"},\n",
        "    {\"id\": 13, \"title\": \"The Girl with the Dragon Tattoo\", \"author\": \"Stieg Larsson\", \"genre\": \"Mystery\", \"themes\": \"Crime, Corruption, Feminism\", \"era\": \"21st Century\"},\n",
        "    {\"id\": 14, \"title\": \"The Kite Runner\", \"author\": \"Khaled Hosseini\", \"genre\": \"Historical Fiction\", \"themes\": \"Redemption, Friendship, Culture\", \"era\": \"21st Century\"},\n",
        "    {\"id\": 15, \"title\": \"The Hitchhiker's Guide to the Galaxy\", \"author\": \"Douglas Adams\", \"genre\": \"Science Fiction\", \"themes\": \"Humor, Absurdity, Space travel\", \"era\": \"20th Century\"},\n",
        "    {\"id\": 16, \"title\": \"The Fault in Our Stars\", \"author\": \"John Green\", \"genre\": \"Young Adult\", \"themes\": \"Love, Illness, Coming-of-age\", \"era\": \"21st Century\"},\n",
        "    {\"id\": 17, \"title\": \"The Picture of Dorian Gray\", \"author\": \"Oscar Wilde\", \"genre\": \"Gothic Fiction\", \"themes\": \"Beauty, Corruption, Hedonism\", \"era\": \"19th Century\"},\n",
        "    {\"id\": 18, \"title\": \"The Martian\", \"author\": \"Andy Weir\", \"genre\": \"Science Fiction\", \"themes\": \"Survival, Science, Isolation\", \"era\": \"21st Century\"},\n",
        "    {\"id\": 19, \"title\": \"One Hundred Years of Solitude\", \"author\": \"Gabriel García Márquez\", \"genre\": \"Magical Realism\", \"themes\": \"Family, Time, Solitude\", \"era\": \"20th Century\"},\n",
        "    {\"id\": 20, \"title\": \"The Giver\", \"author\": \"Lois Lowry\", \"genre\": \"Young Adult\", \"themes\": \"Dystopia, Memory, Individuality\", \"era\": \"20th Century\"}\n",
        "]\n",
        "df = pandas.DataFrame(df)\n",
        "df.to_csv(\"books.csv\", index=False)"
      ]
    },
    {
      "cell_type": "code",
      "source": [
        "# Combine relevant features (genre, themes, era) into a single text field for each book.\n",
        "df['combined'] = df['genre'] + ', ' + df['themes'] + ', ' + df['era']"
      ],
      "metadata": {
        "id": "9wj64-fTbhWb"
      },
      "execution_count": 2,
      "outputs": []
    },
    {
      "cell_type": "code",
      "source": [
        "# Apply the cosine similarity on the vector we created in the previous step.\n",
        "!pip install scikit-learn==1.3.0\n",
        "from sklearn.feature_extraction.text import TfidfVectorizer\n",
        "from sklearn.metrics.pairwise import cosine_similarity\n",
        "\n",
        "# fitting the vector and combining text data, then get the cosine similarity matrix\n",
        "\n",
        "tfidf = TfidfVectorizer()\n",
        "tfidf_matrix = tfidf.fit_transform(df['combined'])\n",
        "cosine_sim = cosine_similarity(tfidf_matrix, tfidf_matrix)"
      ],
      "metadata": {
        "colab": {
          "base_uri": "https://localhost:8080/"
        },
        "id": "EjFpukjtb7hH",
        "outputId": "ebbaa1a6-a908-4eac-b67a-25e546199032"
      },
      "execution_count": 3,
      "outputs": [
        {
          "output_type": "stream",
          "name": "stdout",
          "text": [
            "Collecting scikit-learn==1.3.0\n",
            "  Downloading scikit_learn-1.3.0-cp310-cp310-manylinux_2_17_x86_64.manylinux2014_x86_64.whl.metadata (11 kB)\n",
            "Requirement already satisfied: numpy>=1.17.3 in /usr/local/lib/python3.10/dist-packages (from scikit-learn==1.3.0) (1.26.4)\n",
            "Requirement already satisfied: scipy>=1.5.0 in /usr/local/lib/python3.10/dist-packages (from scikit-learn==1.3.0) (1.13.1)\n",
            "Requirement already satisfied: joblib>=1.1.1 in /usr/local/lib/python3.10/dist-packages (from scikit-learn==1.3.0) (1.4.2)\n",
            "Requirement already satisfied: threadpoolctl>=2.0.0 in /usr/local/lib/python3.10/dist-packages (from scikit-learn==1.3.0) (3.5.0)\n",
            "Downloading scikit_learn-1.3.0-cp310-cp310-manylinux_2_17_x86_64.manylinux2014_x86_64.whl (10.8 MB)\n",
            "\u001b[2K   \u001b[90m━━━━━━━━━━━━━━━━━━━━━━━━━━━━━━━━━━━━━━━━\u001b[0m \u001b[32m10.8/10.8 MB\u001b[0m \u001b[31m18.2 MB/s\u001b[0m eta \u001b[36m0:00:00\u001b[0m\n",
            "\u001b[?25hInstalling collected packages: scikit-learn\n",
            "  Attempting uninstall: scikit-learn\n",
            "    Found existing installation: scikit-learn 1.3.2\n",
            "    Uninstalling scikit-learn-1.3.2:\n",
            "      Successfully uninstalled scikit-learn-1.3.2\n",
            "Successfully installed scikit-learn-1.3.0\n"
          ]
        }
      ]
    },
    {
      "cell_type": "code",
      "source": [
        "# Create a function that takes a book title as input and returns the top N most similar books.\n",
        "\n",
        "def get_similar_books(title, n=5):\n",
        "  # Get the index of the book that matches the title\n",
        "  idx = df[df['title'] == title].index[0]\n",
        "\n",
        "  # Get the pairwise similarity scores of all books with that book\n",
        "  sim_scores = list(enumerate(cosine_sim[idx]))\n",
        "\n",
        "  # Sort the books based on the similarity scores\n",
        "  sim_scores = sorted(sim_scores, key=lambda x: x[1], reverse=True)\n",
        "\n",
        "  # Get the scores of the N most similar books\n",
        "  sim_scores = sim_scores[1:n+1]\n",
        "\n",
        "  # Get the book indices\n",
        "  book_indices = [i[0] for i in sim_scores]\n",
        "\n",
        "  # Return the top N most similar books\n",
        "  return df['title'].iloc[book_indices]"
      ],
      "metadata": {
        "id": "xwFvJO1PcObg"
      },
      "execution_count": 4,
      "outputs": []
    },
    {
      "cell_type": "code",
      "source": [
        "# Testing the book recommendation\n",
        "\n",
        "print(get_similar_books('The Hobbit'))\n"
      ],
      "metadata": {
        "colab": {
          "base_uri": "https://localhost:8080/"
        },
        "id": "9R2mUFhxcao0",
        "outputId": "2de766e4-c47b-4a26-e4a9-06dd0030a78b"
      },
      "execution_count": 5,
      "outputs": [
        {
          "output_type": "stream",
          "name": "stdout",
          "text": [
            "4     Harry Potter and the Sorcerer's Stone\n",
            "1                                      1984\n",
            "7                           Brave New World\n",
            "19                                The Giver\n",
            "0                     To Kill a Mockingbird\n",
            "Name: title, dtype: object\n"
          ]
        }
      ]
    },
    {
      "cell_type": "code",
      "source": [
        "# Testing the book recommendation\n",
        "\n",
        "print(get_similar_books('1984'))"
      ],
      "metadata": {
        "colab": {
          "base_uri": "https://localhost:8080/"
        },
        "id": "7Ovrs_badll9",
        "outputId": "3ceca67a-cbe5-47c3-8eab-45172390958a"
      },
      "execution_count": 6,
      "outputs": [
        {
          "output_type": "stream",
          "name": "stdout",
          "text": [
            "7                          Brave New World\n",
            "17                             The Martian\n",
            "14    The Hitchhiker's Guide to the Galaxy\n",
            "19                               The Giver\n",
            "10                        The Hunger Games\n",
            "Name: title, dtype: object\n"
          ]
        }
      ]
    }
  ]
}