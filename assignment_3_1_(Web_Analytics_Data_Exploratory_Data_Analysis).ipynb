{
  "cells": [
    {
      "cell_type": "code",
      "execution_count": null,
      "metadata": {
        "colab": {
          "base_uri": "https://localhost:8080/"
        },
        "collapsed": true,
        "id": "syrp8Cur6Fbp",
        "outputId": "767ae4d9-c465-4b25-ea51-b39087e17871"
      },
      "outputs": [
        {
          "name": "stdout",
          "output_type": "stream",
          "text": [
            "<bound method NDFrame.head of         Source / Medium  Year  Month of the year    Users New Users Sessions  \\\n",
            "0                     A  2019                 11  126,870   104,020  194,667   \n",
            "1                     A  2020                  5  120,625    98,574  194,114   \n",
            "2                     A  2019                 10  123,361   104,308  181,175   \n",
            "3                     A  2019                  9  106,551    88,428  170,329   \n",
            "4                     A  2020                  6  102,123    82,461  163,446   \n",
            "..                  ...   ...                ...      ...       ...      ...   \n",
            "245                  AA  2020                  5      111        97      131   \n",
            "246                   K  2020                  2      112        81      130   \n",
            "247                  JJ  2019                 12      117        90      129   \n",
            "248                   K  2020                  3      111        70      127   \n",
            "249  euromessage / push  2020                  5       99         1      125   \n",
            "\n",
            "    Bounce Rate Pageviews Avg. Session Duration Conversion Rate (%)  \\\n",
            "0        71.59%   455,159              00:01:11                 0.2   \n",
            "1        64.56%   559,509              00:01:32                0.69   \n",
            "2        41.91%   368,907              00:01:05                0.26   \n",
            "3        75.92%   368,803              00:01:01                0.18   \n",
            "4        67.10%   425,410              00:01:20                 0.7   \n",
            "..          ...       ...                   ...                 ...   \n",
            "245      61.07%       324              00:01:26                   0   \n",
            "246      68.46%       297              00:01:20                   0   \n",
            "247      29.46%     1,000              00:05:36                0.78   \n",
            "248      62.20%       397              00:01:27                0.79   \n",
            "249      60.80%       396              00:01:44                   0   \n",
            "\n",
            "    Transactions  Revenue Quantity Sold  \n",
            "0            394   83,244           482  \n",
            "1          1,347  203,552         2,402  \n",
            "2            477   94,282           599  \n",
            "3            311   54,971           415  \n",
            "4          1,138  167,113         1,987  \n",
            "..           ...      ...           ...  \n",
            "245            0        0             0  \n",
            "246            0        0             0  \n",
            "247            1       81             1  \n",
            "248            1       77             1  \n",
            "249            0        0             0  \n",
            "\n",
            "[250 rows x 13 columns]>\n"
          ]
        }
      ],
      "source": [
        "# this imports the data from the file \"web_analytics_data.csv\"\n",
        "\n",
        "import pandas as pd\n",
        "\n",
        "df = pd.read_csv('web_analytics_data.csv')\n",
        "print(df.head)\n"
      ]
    },
    {
      "cell_type": "code",
      "execution_count": null,
      "metadata": {
        "colab": {
          "base_uri": "https://localhost:8080/"
        },
        "collapsed": true,
        "id": "yQ0AAAqa8BhW",
        "outputId": "3c326cde-76b6-41c5-bec0-be4c07f56559"
      },
      "outputs": [
        {
          "name": "stdout",
          "output_type": "stream",
          "text": [
            "     Source / Medium   Year  Month of the year  Users  New Users  Sessions  \\\n",
            "0              False  False              False  False      False     False   \n",
            "1              False  False              False  False      False     False   \n",
            "2              False  False              False  False      False     False   \n",
            "3              False  False              False  False      False     False   \n",
            "4              False  False              False  False      False     False   \n",
            "..               ...    ...                ...    ...        ...       ...   \n",
            "245            False  False              False  False      False     False   \n",
            "246            False  False              False  False      False     False   \n",
            "247            False  False              False  False      False     False   \n",
            "248            False  False              False  False      False     False   \n",
            "249            False  False              False  False      False     False   \n",
            "\n",
            "     Bounce Rate  Pageviews  Avg. Session Duration  Conversion Rate (%)  \\\n",
            "0          False      False                  False                False   \n",
            "1          False      False                  False                False   \n",
            "2          False      False                  False                False   \n",
            "3          False      False                  False                False   \n",
            "4          False      False                  False                False   \n",
            "..           ...        ...                    ...                  ...   \n",
            "245        False      False                  False                False   \n",
            "246        False      False                  False                False   \n",
            "247        False      False                  False                False   \n",
            "248        False      False                  False                False   \n",
            "249        False      False                  False                False   \n",
            "\n",
            "     Transactions  Revenue  Quantity Sold  \n",
            "0           False    False          False  \n",
            "1           False    False          False  \n",
            "2           False    False          False  \n",
            "3           False    False          False  \n",
            "4           False    False          False  \n",
            "..            ...      ...            ...  \n",
            "245         False    False          False  \n",
            "246         False    False          False  \n",
            "247         False    False          False  \n",
            "248         False    False          False  \n",
            "249         False    False          False  \n",
            "\n",
            "[250 rows x 13 columns]\n"
          ]
        }
      ],
      "source": [
        "# Finding the null values. If the there is a null, the table will say \"true\". If there is data, the table will say false\n",
        "\n",
        "null_values = df.isnull()\n",
        "print(null_values)"
      ]
    },
    {
      "cell_type": "code",
      "execution_count": null,
      "metadata": {
        "colab": {
          "base_uri": "https://localhost:8080/"
        },
        "collapsed": true,
        "id": "RzbFTCMr8nz4",
        "outputId": "4b8a52bd-938b-4278-a1c4-034cef87819c"
      },
      "outputs": [
        {
          "name": "stdout",
          "output_type": "stream",
          "text": [
            "Source / Medium          0\n",
            "Year                     0\n",
            "Month of the year        0\n",
            "Users                    0\n",
            "New Users                0\n",
            "Sessions                 0\n",
            "Bounce Rate              0\n",
            "Pageviews                0\n",
            "Avg. Session Duration    0\n",
            "Conversion Rate (%)      0\n",
            "Transactions             0\n",
            "Revenue                  0\n",
            "Quantity Sold            0\n",
            "dtype: int64\n"
          ]
        }
      ],
      "source": [
        "\n",
        "# This counts the number of nulls in each category of the table\n",
        "null_counts = df.isnull().sum()\n",
        "print(null_counts)\n",
        "\n"
      ]
    },
    {
      "cell_type": "code",
      "execution_count": null,
      "metadata": {
        "collapsed": true,
        "id": "GgBWUt7_E59F"
      },
      "outputs": [],
      "source": [
        "# This states the type of data in each category in the table\n",
        "\n",
        "print(df.dtypes)"
      ]
    },
    {
      "cell_type": "code",
      "execution_count": null,
      "metadata": {
        "id": "F3d8eqOLkDMY"
      },
      "outputs": [],
      "source": [
        "import pandas as pd\n",
        "\n",
        "# Read the data from the CSV file\n",
        "df = pd.read_csv('web_analytics_data.csv')\n",
        "print(df.head)  # View the first few rows of the data\n",
        "\n",
        "# Find missing values (null values)\n",
        "null_values = df.isnull()\n",
        "print(null_values)  # Shows True for missing values, False for data\n",
        "\n",
        "# Count missing values per column\n",
        "null_counts = df.isnull().sum()\n",
        "print(null_counts)  # Shows the number of missing values in each column\n",
        "\n",
        "# Check data types of each column\n",
        "print(df.dtypes)  # Shows the data type (e.g., integer, string) of each column\n",
        "\n",
        "# Exclude specific columns from conversion to integer\n",
        "exclude_cols = ['Bounce Rate', 'Avg. Session Duration', 'Conversion Rate (%)', 'Source / Medium']\n",
        "\n",
        "# Convert columns to numeric format (excluding specified columns)\n",
        "for col in df.columns:\n",
        "    if col not in exclude_cols:\n",
        "        df[col] = pd.to_numeric(df[col], errors='coerce').astype('Int64', errors='ignore')\n",
        "\n",
        "# Convert \"Conversion Rate (%)\" to float and remove percentage sign\n",
        "if df['Conversion Rate (%)'].dtype == object:\n",
        "    df['Conversion Rate (%)'] = df['Conversion Rate (%)'].str.rstrip('%').astype('float64', errors='ignore')\n",
        "elif df['Conversion Rate (%)'].dtype != 'float64':\n",
        "    df['Conversion Rate (%)'] = df['Conversion Rate (%)'].astype('float64', errors='ignore')\n",
        "\n",
        "# Check the updated data types\n",
        "print(df.dtypes)  # Verify if conversions were successful\n"
      ]
    },
    {
      "cell_type": "code",
      "execution_count": null,
      "metadata": {
        "id": "mMxPmqgmo4ER"
      },
      "outputs": [],
      "source": [
        "# Group data by month\n",
        "grouped_by_month = df.groupby(df['Month of the year'])\n",
        "\n",
        "# Calculate average users per month\n",
        "average_users_per_month = grouped_by_month['Users'].mean()\n",
        "\n",
        "# Find the month with the highest number of users\n",
        "month_highest_users = average_users_per_month.idxmax()\n",
        "highest_average_users = average_users_per_month.max()\n",
        "\n",
        "# Print the results\n",
        "print(\"Average Users per Month:\")\n",
        "print(average_users_per_month)\n",
        "\n",
        "print(f\"\\nMonth with Highest Users: {month_highest_users} (Average: {highest_average_users:.2f})\")\n"
      ]
    },
    {
      "cell_type": "code",
      "execution_count": null,
      "metadata": {
        "id": "QedDAqVbEYmG"
      },
      "outputs": [],
      "source": [
        "# Group data by month\n",
        "\n",
        "grouped_by_month = df.groupby(df['Month of the year'])\n",
        "\n",
        "\n",
        "# Calculate total new users per month\n",
        "\n",
        "total_new_users_per_month = grouped_by_month['New Users'].sum()\n",
        "\n",
        "\n",
        "# Print total new users per month\n",
        "\n",
        "print(\"Total New Users per Month:\")\n",
        "print(total_new_users_per_month, end=\"\\n\\n\")\n",
        "\n",
        "# Alternative: Calculate growth in Users compared to previous month\n",
        "\n",
        "# Shift Users data by 1 month (assuming data starts from month 1)\n",
        "\n",
        "shifted_users = df['Users'].shift(1)\n",
        "\n",
        "\n",
        "# Calculate user growth per month (ignoring first month due to missing previous data)\n",
        "\n",
        "user_growth_per_month = df['Users'] - shifted_users[1:]  # Exclude the first month (index 0)\n",
        "\n",
        "\n",
        "# Print user growth per month\n",
        "\n",
        "print(\"Growth in Users per Month (compared to previous month):\")\n",
        "print(user_growth_per_month[1:], end=\"\\n\\n\")  # Exclude the first month (index 0)\n",
        "\n",
        "\n",
        "# Find the month with the highest new users (or user growth)\n",
        "\n",
        "if 'New Users' in df.columns:\n",
        "  month_highest_new_users = total_new_users_per_month.idxmax()\n",
        "  highest_new_users = total_new_users_per_month.max()\n",
        "else:\n",
        "  month_highest_new_users = user_growth_per_month.idxmax()\n",
        "  highest_new_users = user_growth_per_month.max()\n",
        "\n",
        "\n",
        "# Print the results\n",
        "\n",
        "print(f\"Month with Highest New Users: {month_highest_users} (Count: {highest_new_users})\")\n"
      ]
    },
    {
      "cell_type": "code",
      "execution_count": null,
      "metadata": {
        "colab": {
          "background_save": true,
          "base_uri": "https://localhost:8080/",
          "height": 494
        },
        "id": "MItBOYITKhIq",
        "outputId": "a77bfb94-3927-4f28-f3bf-d423a408d07d"
      },
      "outputs": [
        {
          "data": {
            "image/png": "[encoded data removed]",
            "text/plain": [
              "<Figure size 800x600 with 1 Axes>"
            ]
          },
          "metadata": {},
          "output_type": "display_data"
        }
      ],
      "source": [
        "import pandas as pd\n",
        "import matplotlib.pyplot as plt\n",
        "\n",
        "# Sample data (assuming 'Source/Medium' and 'Pageviews' columns exist)\n",
        "data = {\n",
        "    'Source/Medium': ['A', 'B', 'C', 'D', 'E', 'F', 'G', 'H'],  # Modified to have the same length as 'Pageviews'\n",
        "    'Pageviews': [1200, 500, 800, 1500, 300, 1000, 600, 900]\n",
        "}\n",
        "\n",
        "df = pd.DataFrame(data)\n",
        "\n",
        "# Create the histogram\n",
        "plt.figure(figsize=(8, 6))\n",
        "plt.hist(df['Pageviews'], bins=10, edgecolor='black')\n",
        "plt.xlabel('Pageviews')\n",
        "plt.ylabel('Frequency')\n",
        "plt.title('Distribution of Pageviews by Source/Medium')\n",
        "plt.grid(axis='y')\n",
        "\n",
        "# Rotate x-axis labels for better readability\n",
        "plt.xticks(rotation=45)\n",
        "\n",
        "# Show the plot\n",
        "plt.tight_layout()\n",
        "plt.show()"
      ]
    }
  ],
  "metadata": {
    "colab": {
      "provenance": []
    },
    "kernelspec": {
      "display_name": "Python 3",
      "name": "python3"
    },
    "language_info": {
      "name": "python"
    }
  },
  "nbformat": 4,
  "nbformat_minor": 0
}