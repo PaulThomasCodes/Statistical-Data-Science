{
  "nbformat": 4,
  "nbformat_minor": 0,
  "metadata": {
    "colab": {
      "provenance": []
    },
    "kernelspec": {
      "name": "python3",
      "display_name": "Python 3"
    },
    "language_info": {
      "name": "python"
    }
  },
  "cells": [
    {
      "cell_type": "code",
      "execution_count": null,
      "metadata": {
        "colab": {
          "base_uri": "https://localhost:8080/",
          "height": 933
        },
        "id": "3t-9U9K68eR8",
        "outputId": "d3a80185-ed7d-4c77-f298-46880e30fdd0"
      },
      "outputs": [
        {
          "output_type": "stream",
          "name": "stdout",
          "text": [
            "      No  X1 transaction date  X2 house age  \\\n",
            "0      1             2012.917          32.0   \n",
            "1      2             2012.917          19.5   \n",
            "2      3             2013.583          13.3   \n",
            "3      4             2013.500          13.3   \n",
            "4      5             2012.833           5.0   \n",
            "..   ...                  ...           ...   \n",
            "409  410             2013.000          13.7   \n",
            "410  411             2012.667           5.6   \n",
            "411  412             2013.250          18.8   \n",
            "412  413             2013.000           8.1   \n",
            "413  414             2013.500           6.5   \n",
            "\n",
            "     X3 distance to the nearest MRT station  X4 number of convenience stores  \\\n",
            "0                                  84.87882                               10   \n",
            "1                                 306.59470                                9   \n",
            "2                                 561.98450                                5   \n",
            "3                                 561.98450                                5   \n",
            "4                                 390.56840                                5   \n",
            "..                                      ...                              ...   \n",
            "409                              4082.01500                                0   \n",
            "410                                90.45606                                9   \n",
            "411                               390.96960                                7   \n",
            "412                               104.81010                                5   \n",
            "413                                90.45606                                9   \n",
            "\n",
            "     X5 latitude  X6 longitude  Y house price of unit area  \n",
            "0       24.98298     121.54024                        37.9  \n",
            "1       24.98034     121.53951                        42.2  \n",
            "2       24.98746     121.54391                        47.3  \n",
            "3       24.98746     121.54391                        54.8  \n",
            "4       24.97937     121.54245                        43.1  \n",
            "..           ...           ...                         ...  \n",
            "409     24.94155     121.50381                        15.4  \n",
            "410     24.97433     121.54310                        50.0  \n",
            "411     24.97923     121.53986                        40.6  \n",
            "412     24.96674     121.54067                        52.5  \n",
            "413     24.97433     121.54310                        63.9  \n",
            "\n",
            "[414 rows x 8 columns]\n"
          ]
        },
        {
          "output_type": "execute_result",
          "data": {
            "text/plain": [
              "<bound method DataFrame.info of       No  X1 transaction date  X2 house age  \\\n",
              "0      1             2012.917          32.0   \n",
              "1      2             2012.917          19.5   \n",
              "2      3             2013.583          13.3   \n",
              "3      4             2013.500          13.3   \n",
              "4      5             2012.833           5.0   \n",
              "..   ...                  ...           ...   \n",
              "409  410             2013.000          13.7   \n",
              "410  411             2012.667           5.6   \n",
              "411  412             2013.250          18.8   \n",
              "412  413             2013.000           8.1   \n",
              "413  414             2013.500           6.5   \n",
              "\n",
              "     X3 distance to the nearest MRT station  X4 number of convenience stores  \\\n",
              "0                                  84.87882                               10   \n",
              "1                                 306.59470                                9   \n",
              "2                                 561.98450                                5   \n",
              "3                                 561.98450                                5   \n",
              "4                                 390.56840                                5   \n",
              "..                                      ...                              ...   \n",
              "409                              4082.01500                                0   \n",
              "410                                90.45606                                9   \n",
              "411                               390.96960                                7   \n",
              "412                               104.81010                                5   \n",
              "413                                90.45606                                9   \n",
              "\n",
              "     X5 latitude  X6 longitude  Y house price of unit area  \n",
              "0       24.98298     121.54024                        37.9  \n",
              "1       24.98034     121.53951                        42.2  \n",
              "2       24.98746     121.54391                        47.3  \n",
              "3       24.98746     121.54391                        54.8  \n",
              "4       24.97937     121.54245                        43.1  \n",
              "..           ...           ...                         ...  \n",
              "409     24.94155     121.50381                        15.4  \n",
              "410     24.97433     121.54310                        50.0  \n",
              "411     24.97923     121.53986                        40.6  \n",
              "412     24.96674     121.54067                        52.5  \n",
              "413     24.97433     121.54310                        63.9  \n",
              "\n",
              "[414 rows x 8 columns]>"
            ],
            "text/html": [
              "<div style=\"max-width:800px; border: 1px solid var(--colab-border-color);\"><style>\n",
              "      pre.function-repr-contents {\n",
              "        overflow-x: auto;\n",
              "        padding: 8px 12px;\n",
              "        max-height: 500px;\n",
              "      }\n",
              "\n",
              "      pre.function-repr-contents.function-repr-contents-collapsed {\n",
              "        cursor: pointer;\n",
              "        max-height: 100px;\n",
              "      }\n",
              "    </style>\n",
              "    <pre style=\"white-space: initial; background:\n",
              "         var(--colab-secondary-surface-color); padding: 8px 12px;\n",
              "         border-bottom: 1px solid var(--colab-border-color);\"><b>pandas.core.frame.DataFrame.info</b><br/>def info(verbose: bool | None=None, buf: WriteBuffer[str] | None=None, max_cols: int | None=None, memory_usage: bool | str | None=None, show_counts: bool | None=None) -&gt; None</pre><pre class=\"function-repr-contents function-repr-contents-collapsed\" style=\"\"><a class=\"filepath\" style=\"display:none\" href=\"#\">/usr/local/lib/python3.10/dist-packages/pandas/core/frame.py</a>Print a concise summary of a DataFrame.\n",
              "\n",
              "This method prints information about a DataFrame including\n",
              "the index dtype and columns, non-null values and memory usage.\n",
              "\n",
              "Parameters\n",
              "----------\n",
              "verbose : bool, optional\n",
              "    Whether to print the full summary. By default, the setting in\n",
              "    ``pandas.options.display.max_info_columns`` is followed.\n",
              "buf : writable buffer, defaults to sys.stdout\n",
              "    Where to send the output. By default, the output is printed to\n",
              "    sys.stdout. Pass a writable buffer if you need to further process\n",
              "    the output.\n",
              "max_cols : int, optional\n",
              "    When to switch from the verbose to the truncated output. If the\n",
              "    DataFrame has more than `max_cols` columns, the truncated output\n",
              "    is used. By default, the setting in\n",
              "    ``pandas.options.display.max_info_columns`` is used.\n",
              "memory_usage : bool, str, optional\n",
              "    Specifies whether total memory usage of the DataFrame\n",
              "    elements (including the index) should be displayed. By default,\n",
              "    this follows the ``pandas.options.display.memory_usage`` setting.\n",
              "\n",
              "    True always show memory usage. False never shows memory usage.\n",
              "    A value of &#x27;deep&#x27; is equivalent to &quot;True with deep introspection&quot;.\n",
              "    Memory usage is shown in human-readable units (base-2\n",
              "    representation). Without deep introspection a memory estimation is\n",
              "    made based in column dtype and number of rows assuming values\n",
              "    consume the same memory amount for corresponding dtypes. With deep\n",
              "    memory introspection, a real memory usage calculation is performed\n",
              "    at the cost of computational resources. See the\n",
              "    :ref:`Frequently Asked Questions &lt;df-memory-usage&gt;` for more\n",
              "    details.\n",
              "show_counts : bool, optional\n",
              "    Whether to show the non-null counts. By default, this is shown\n",
              "    only if the DataFrame is smaller than\n",
              "    ``pandas.options.display.max_info_rows`` and\n",
              "    ``pandas.options.display.max_info_columns``. A value of True always\n",
              "    shows the counts, and False never shows the counts.\n",
              "\n",
              "Returns\n",
              "-------\n",
              "None\n",
              "    This method prints a summary of a DataFrame and returns None.\n",
              "\n",
              "See Also\n",
              "--------\n",
              "DataFrame.describe: Generate descriptive statistics of DataFrame\n",
              "    columns.\n",
              "DataFrame.memory_usage: Memory usage of DataFrame columns.\n",
              "\n",
              "Examples\n",
              "--------\n",
              "&gt;&gt;&gt; int_values = [1, 2, 3, 4, 5]\n",
              "&gt;&gt;&gt; text_values = [&#x27;alpha&#x27;, &#x27;beta&#x27;, &#x27;gamma&#x27;, &#x27;delta&#x27;, &#x27;epsilon&#x27;]\n",
              "&gt;&gt;&gt; float_values = [0.0, 0.25, 0.5, 0.75, 1.0]\n",
              "&gt;&gt;&gt; df = pd.DataFrame({&quot;int_col&quot;: int_values, &quot;text_col&quot;: text_values,\n",
              "...                   &quot;float_col&quot;: float_values})\n",
              "&gt;&gt;&gt; df\n",
              "    int_col text_col  float_col\n",
              "0        1    alpha       0.00\n",
              "1        2     beta       0.25\n",
              "2        3    gamma       0.50\n",
              "3        4    delta       0.75\n",
              "4        5  epsilon       1.00\n",
              "\n",
              "Prints information of all columns:\n",
              "\n",
              "&gt;&gt;&gt; df.info(verbose=True)\n",
              "&lt;class &#x27;pandas.core.frame.DataFrame&#x27;&gt;\n",
              "RangeIndex: 5 entries, 0 to 4\n",
              "Data columns (total 3 columns):\n",
              " #   Column     Non-Null Count  Dtype\n",
              "---  ------     --------------  -----\n",
              " 0   int_col    5 non-null      int64\n",
              " 1   text_col   5 non-null      object\n",
              " 2   float_col  5 non-null      float64\n",
              "dtypes: float64(1), int64(1), object(1)\n",
              "memory usage: 248.0+ bytes\n",
              "\n",
              "Prints a summary of columns count and its dtypes but not per column\n",
              "information:\n",
              "\n",
              "&gt;&gt;&gt; df.info(verbose=False)\n",
              "&lt;class &#x27;pandas.core.frame.DataFrame&#x27;&gt;\n",
              "RangeIndex: 5 entries, 0 to 4\n",
              "Columns: 3 entries, int_col to float_col\n",
              "dtypes: float64(1), int64(1), object(1)\n",
              "memory usage: 248.0+ bytes\n",
              "\n",
              "Pipe output of DataFrame.info to buffer instead of sys.stdout, get\n",
              "buffer content and writes to a text file:\n",
              "\n",
              "&gt;&gt;&gt; import io\n",
              "&gt;&gt;&gt; buffer = io.StringIO()\n",
              "&gt;&gt;&gt; df.info(buf=buffer)\n",
              "&gt;&gt;&gt; s = buffer.getvalue()\n",
              "&gt;&gt;&gt; with open(&quot;df_info.txt&quot;, &quot;w&quot;,\n",
              "...           encoding=&quot;utf-8&quot;) as f:  # doctest: +SKIP\n",
              "...     f.write(s)\n",
              "260\n",
              "\n",
              "The `memory_usage` parameter allows deep introspection mode, specially\n",
              "useful for big DataFrames and fine-tune memory optimization:\n",
              "\n",
              "&gt;&gt;&gt; random_strings_array = np.random.choice([&#x27;a&#x27;, &#x27;b&#x27;, &#x27;c&#x27;], 10 ** 6)\n",
              "&gt;&gt;&gt; df = pd.DataFrame({\n",
              "...     &#x27;column_1&#x27;: np.random.choice([&#x27;a&#x27;, &#x27;b&#x27;, &#x27;c&#x27;], 10 ** 6),\n",
              "...     &#x27;column_2&#x27;: np.random.choice([&#x27;a&#x27;, &#x27;b&#x27;, &#x27;c&#x27;], 10 ** 6),\n",
              "...     &#x27;column_3&#x27;: np.random.choice([&#x27;a&#x27;, &#x27;b&#x27;, &#x27;c&#x27;], 10 ** 6)\n",
              "... })\n",
              "&gt;&gt;&gt; df.info()\n",
              "&lt;class &#x27;pandas.core.frame.DataFrame&#x27;&gt;\n",
              "RangeIndex: 1000000 entries, 0 to 999999\n",
              "Data columns (total 3 columns):\n",
              " #   Column    Non-Null Count    Dtype\n",
              "---  ------    --------------    -----\n",
              " 0   column_1  1000000 non-null  object\n",
              " 1   column_2  1000000 non-null  object\n",
              " 2   column_3  1000000 non-null  object\n",
              "dtypes: object(3)\n",
              "memory usage: 22.9+ MB\n",
              "\n",
              "&gt;&gt;&gt; df.info(memory_usage=&#x27;deep&#x27;)\n",
              "&lt;class &#x27;pandas.core.frame.DataFrame&#x27;&gt;\n",
              "RangeIndex: 1000000 entries, 0 to 999999\n",
              "Data columns (total 3 columns):\n",
              " #   Column    Non-Null Count    Dtype\n",
              "---  ------    --------------    -----\n",
              " 0   column_1  1000000 non-null  object\n",
              " 1   column_2  1000000 non-null  object\n",
              " 2   column_3  1000000 non-null  object\n",
              "dtypes: object(3)\n",
              "memory usage: 165.9 MB</pre>\n",
              "      <script>\n",
              "      if (google.colab.kernel.accessAllowed && google.colab.files && google.colab.files.view) {\n",
              "        for (const element of document.querySelectorAll('.filepath')) {\n",
              "          element.style.display = 'block'\n",
              "          element.onclick = (event) => {\n",
              "            event.preventDefault();\n",
              "            event.stopPropagation();\n",
              "            google.colab.files.view(element.textContent, 3451);\n",
              "          };\n",
              "        }\n",
              "      }\n",
              "      for (const element of document.querySelectorAll('.function-repr-contents')) {\n",
              "        element.onclick = (event) => {\n",
              "          event.preventDefault();\n",
              "          event.stopPropagation();\n",
              "          element.classList.toggle('function-repr-contents-collapsed');\n",
              "        };\n",
              "      }\n",
              "      </script>\n",
              "      </div>"
            ]
          },
          "metadata": {},
          "execution_count": 10
        }
      ],
      "source": [
        "import pandas as pandas\n",
        "import seaborn as sns\n",
        "import numpy as np\n",
        "import matplotlib.pyplot as plt\n",
        "df = pandas.read_csv(\"Real estate.csv\")\n",
        "df.head()\n",
        "print(df)\n",
        "df.info"
      ]
    },
    {
      "cell_type": "code",
      "source": [
        "summary = df.describe()\n",
        "print(summary)"
      ],
      "metadata": {
        "colab": {
          "base_uri": "https://localhost:8080/"
        },
        "collapsed": true,
        "id": "hzsV9XIbDnRi",
        "outputId": "3fc7e494-e50a-4675-b2fa-eddc77dd7e08"
      },
      "execution_count": null,
      "outputs": [
        {
          "output_type": "stream",
          "name": "stdout",
          "text": [
            "               No  X1 transaction date  X2 house age  \\\n",
            "count  414.000000           414.000000    414.000000   \n",
            "mean   207.500000          2013.148971     17.712560   \n",
            "std    119.655756             0.281967     11.392485   \n",
            "min      1.000000          2012.667000      0.000000   \n",
            "25%    104.250000          2012.917000      9.025000   \n",
            "50%    207.500000          2013.167000     16.100000   \n",
            "75%    310.750000          2013.417000     28.150000   \n",
            "max    414.000000          2013.583000     43.800000   \n",
            "\n",
            "       X3 distance to the nearest MRT station  \\\n",
            "count                              414.000000   \n",
            "mean                              1083.885689   \n",
            "std                               1262.109595   \n",
            "min                                 23.382840   \n",
            "25%                                289.324800   \n",
            "50%                                492.231300   \n",
            "75%                               1454.279000   \n",
            "max                               6488.021000   \n",
            "\n",
            "       X4 number of convenience stores  X5 latitude  X6 longitude  \\\n",
            "count                       414.000000   414.000000    414.000000   \n",
            "mean                          4.094203    24.969030    121.533361   \n",
            "std                           2.945562     0.012410      0.015347   \n",
            "min                           0.000000    24.932070    121.473530   \n",
            "25%                           1.000000    24.963000    121.528085   \n",
            "50%                           4.000000    24.971100    121.538630   \n",
            "75%                           6.000000    24.977455    121.543305   \n",
            "max                          10.000000    25.014590    121.566270   \n",
            "\n",
            "       Y house price of unit area  \n",
            "count                  414.000000  \n",
            "mean                    37.980193  \n",
            "std                     13.606488  \n",
            "min                      7.600000  \n",
            "25%                     27.700000  \n",
            "50%                     38.450000  \n",
            "75%                     46.600000  \n",
            "max                    117.500000  \n"
          ]
        }
      ]
    },
    {
      "cell_type": "code",
      "source": [
        "x = df.drop('Y house price of unit area', axis=1)\n",
        "y = df['Y house price of unit area']\n",
        "print(x)\n",
        "print(y)"
      ],
      "metadata": {
        "colab": {
          "base_uri": "https://localhost:8080/"
        },
        "collapsed": true,
        "id": "OnncuBTreduq",
        "outputId": "51257949-5b8d-4838-d82c-2ede930a9641"
      },
      "execution_count": null,
      "outputs": [
        {
          "output_type": "stream",
          "name": "stdout",
          "text": [
            "      No  X1 transaction date  X2 house age  \\\n",
            "0      1             2012.917          32.0   \n",
            "1      2             2012.917          19.5   \n",
            "2      3             2013.583          13.3   \n",
            "3      4             2013.500          13.3   \n",
            "4      5             2012.833           5.0   \n",
            "..   ...                  ...           ...   \n",
            "409  410             2013.000          13.7   \n",
            "410  411             2012.667           5.6   \n",
            "411  412             2013.250          18.8   \n",
            "412  413             2013.000           8.1   \n",
            "413  414             2013.500           6.5   \n",
            "\n",
            "     X3 distance to the nearest MRT station  X4 number of convenience stores  \\\n",
            "0                                  84.87882                               10   \n",
            "1                                 306.59470                                9   \n",
            "2                                 561.98450                                5   \n",
            "3                                 561.98450                                5   \n",
            "4                                 390.56840                                5   \n",
            "..                                      ...                              ...   \n",
            "409                              4082.01500                                0   \n",
            "410                                90.45606                                9   \n",
            "411                               390.96960                                7   \n",
            "412                               104.81010                                5   \n",
            "413                                90.45606                                9   \n",
            "\n",
            "     X5 latitude  X6 longitude  \n",
            "0       24.98298     121.54024  \n",
            "1       24.98034     121.53951  \n",
            "2       24.98746     121.54391  \n",
            "3       24.98746     121.54391  \n",
            "4       24.97937     121.54245  \n",
            "..           ...           ...  \n",
            "409     24.94155     121.50381  \n",
            "410     24.97433     121.54310  \n",
            "411     24.97923     121.53986  \n",
            "412     24.96674     121.54067  \n",
            "413     24.97433     121.54310  \n",
            "\n",
            "[414 rows x 7 columns]\n",
            "0      37.9\n",
            "1      42.2\n",
            "2      47.3\n",
            "3      54.8\n",
            "4      43.1\n",
            "       ... \n",
            "409    15.4\n",
            "410    50.0\n",
            "411    40.6\n",
            "412    52.5\n",
            "413    63.9\n",
            "Name: Y house price of unit area, Length: 414, dtype: float64\n"
          ]
        }
      ]
    },
    {
      "cell_type": "code",
      "source": [
        "from sklearn.model_selection import train_test_split\n",
        "\n",
        "x_train, x_test, y_train, y_test = train_test_split(x, y, test_size = 0.2, random_state=42) # split data into training and testing sets with an 80-20 split"
      ],
      "metadata": {
        "id": "HGMm-jKLJ4aD"
      },
      "execution_count": null,
      "outputs": []
    },
    {
      "cell_type": "code",
      "source": [
        "from sklearn.linear_model import LinearRegression\n",
        "from sklearn.metrics import mean_squared_error, r2_score\n",
        "\n",
        "model = LinearRegression() # Create a Linear Regression model\n",
        "model.fit(x_train, y_train) # Train the model using the training data\n",
        "\n",
        "y_pred = model.predict(x_test) # Make predictions on the testing data\n",
        "\n",
        "mse = mean_squared_error(y_test, y_pred) # Calculate the Mean Squared Error\n",
        "r2 = r2_score(y_test, y_pred) # Calculate the R-squared\n",
        "\n",
        "print('Mean Squared Error:', mse)\n",
        "print('R-squared:', r2)"
      ],
      "metadata": {
        "colab": {
          "base_uri": "https://localhost:8080/"
        },
        "id": "dJY4i6I2KVx_",
        "outputId": "3626069c-cde5-4b5c-8089-b0af1e8b1661"
      },
      "execution_count": null,
      "outputs": [
        {
          "output_type": "stream",
          "name": "stdout",
          "text": [
            "Mean Squared Error: 54.60196067337693\n",
            "R-squared: 0.6745228670350882\n"
          ]
        }
      ]
    },
    {
      "cell_type": "code",
      "source": [
        "from sklearn.tree import DecisionTreeRegressor\n",
        "from sklearn.metrics import mean_squared_error, r2_score\n",
        "\n",
        "model = DecisionTreeRegressor() # Create a Decision Tree Regression model\n",
        "model.fit(x_train, y_train) # Train the model using the training data\n",
        "\n",
        "y_pred = model.predict(x_test) # Make predictions on the testing data\n",
        "\n",
        "mse = mean_squared_error(y_test, y_pred) # Calculate the Mean Squared Error\n",
        "r2 = r2_score(y_test, y_pred) # Calculate the R-squared\n",
        "\n",
        "print('Mean Squared Error:', mse)\n",
        "print('R-squared:', r2)"
      ],
      "metadata": {
        "colab": {
          "base_uri": "https://localhost:8080/"
        },
        "id": "Uff4Tc6HMalJ",
        "outputId": "2a8a52a9-d7d1-4f22-a876-e91d498c0a4c"
      },
      "execution_count": null,
      "outputs": [
        {
          "output_type": "stream",
          "name": "stdout",
          "text": [
            "Mean Squared Error: 61.13566265060242\n",
            "R-squared: 0.6355760863523314\n"
          ]
        }
      ]
    },
    {
      "cell_type": "code",
      "source": [
        "import matplotlib.pyplot as plt\n",
        "\n",
        "# MSE and R^2 values for both models\n",
        "mse_values = [78.83, 57.11] # Replace with actual MSE values obtained from previous steps\n",
        "r2_values = [0.58, 0.71] # Replace with actual R^2 values obtained from previous steps\n",
        "\n",
        "# Model names\n",
        "models = ['Linear Regression', 'Decision Tree Regression']\n",
        "\n",
        "# Create the bar plot\n",
        "fig, ax = plt.subplots(figsize=(10, 6))\n",
        "\n",
        "# MSE bars\n",
        "ax.bar(models, mse_values, width=0.4, label='MSE', color='blue')\n",
        "\n",
        "# R^2 bars\n",
        "# Changed 0.4 to 1 to add a single space between the models\n",
        "ax.bar([m + ' ' * 1 for m in models], r2_values, width=0.4, label='R^2', color='green')\n",
        "\n",
        "# Add labels and title\n",
        "ax.set_ylabel('Scores')\n",
        "ax.set_title('Comparison of MSE and R^2 for Linear Regression and Decision Tree Regression')\n",
        "ax.legend()\n",
        "\n",
        "# Display the plot\n",
        "plt.show()\n",
        "\n",
        "# Print which model had the lowest MSE and highest R^2 based on the values in mse_values and r2_values\n",
        "min_mse_index = mse_values.index(min(mse_values))\n",
        "max_r2_index = r2_values.index(max(r2_values))\n",
        "\n",
        "print(f'Model with lowest MSE: {models[min_mse_index]}')\n",
        "print(f'Model with highest R^2: {models[max_r2_index]}')"
      ],
      "metadata": {
        "colab": {
          "base_uri": "https://localhost:8080/",
          "height": 531
        },
        "id": "ujXfxD7POEaG",
        "outputId": "8577b0c3-763e-457d-cf68-710c056cb1e9"
      },
      "execution_count": null,
      "outputs": [
        {
          "output_type": "display_data",
          "data": {
            "text/plain": [
              "<Figure size 1000x600 with 1 Axes>"
            ],
            "image/png": "[encoded data removed]"
          },
          "metadata": {}
        },
        {
          "output_type": "stream",
          "name": "stdout",
          "text": [
            "Model with lowest MSE: Decision Tree Regression\n",
            "Model with highest R^2: Decision Tree Regression\n"
          ]
        }
      ]
    },
    {
      "cell_type": "markdown",
      "source": [
        "The decision tree regression model was better for 2 reasons.\n",
        "\n",
        "1. MSE is lower in the Decision Tree model compared to the Linear Regression model (57.11 vs. 78.83). A lower MSE implies that the model's predictions are closer to the true values, implying more accuracy.\n",
        "2. The Decision Tree model has a better R-squared value (0.71 compared to 0.58). R-squared shows the proportion of variation in the dependent variable explained by the model. A higher R-squared value means that the model fits the data better and can account for more of the observed variability."
      ],
      "metadata": {
        "id": "8bbIyPwiU3su"
      }
    },
    {
      "cell_type": "markdown",
      "source": [],
      "metadata": {
        "id": "G6FzAH_2Z7bD"
      }
    }
  ]
}